{
 "cells": [
  {
   "cell_type": "code",
   "execution_count": 1,
   "id": "initial_id",
   "metadata": {
    "ExecuteTime": {
     "end_time": "2025-08-01T17:17:17.961416Z",
     "start_time": "2025-08-01T17:17:17.955949Z"
    },
    "collapsed": true
   },
   "outputs": [
    {
     "name": "stdout",
     "output_type": "stream",
     "text": [
      "A    False\n",
      "B    False\n",
      "C    False\n",
      "D    False\n",
      "E    False\n",
      "F     True\n",
      "G    False\n",
      "H    False\n",
      "J    False\n",
      "K    False\n",
      "L    False\n",
      "Name: 月份, dtype: bool\n"
     ]
    }
   ],
   "source": [
    "# series的创建\n",
    "import pandas as pd\n",
    "\n",
    "# s = pd.Series([10, 2, 3, 4, 5])\n",
    "# 自定义索引\n",
    "# s = pd.Series([10, 2, 3, 4, 5], index=['A', 'B', 'C', 'D', 'E'])\n",
    "# s = pd.Series([10,2,3,4,5], index=[1,2,3,4,5])\n",
    "# 定义name\n",
    "s = pd.Series([10, 2, 9, 2, 3, None, 1, 3, 2, 1, 5], index=['A', 'B', 'C', 'D', 'E', 'F', 'G', 'H', 'J', 'K', 'L'], name='月份')\n",
    "\n",
    "result = pd.isna(s)\n",
    "print(result)"
   ]
  },
  {
   "cell_type": "code",
   "execution_count": 2,
   "id": "18dc6b74de42d5f3",
   "metadata": {},
   "outputs": [
    {
     "name": "stdout",
     "output_type": "stream",
     "text": [
      "A    10\n",
      "C     3\n",
      "Name: 月份, dtype: int64\n"
     ]
    }
   ],
   "source": [
    "# 通过字典来创建\n",
    "s = pd.Series({\"a\": 1, \"b\": 2, \"c\": 3, \"d\": 4, \"e\": 5})\n",
    "# print(s)\n",
    "s2 = pd.Series([10, 2, 3, 4, 5], index=['A', 'B', 'C', 'D', 'E'], name='月份')\n",
    "s1 = pd.Series(s2, index=[\"A\", \"C\"])\n",
    "print(s1)"
   ]
  },
  {
   "cell_type": "code",
   "execution_count": 10,
   "id": "96af6082ec704c4b",
   "metadata": {
    "ExecuteTime": {
     "end_time": "2025-08-01T16:42:12.480659Z",
     "start_time": "2025-08-01T16:42:11.960952Z"
    }
   },
   "outputs": [
    {
     "name": "stdout",
     "output_type": "stream",
     "text": [
      "a    1\n",
      "a    1\n",
      "dtype: int64\n",
      "1\n",
      "1\n",
      "1\n"
     ]
    }
   ],
   "source": [
    "# series的属性\n",
    "'''\n",
    "index:Series的索引对象\n",
    "values:Series的值\n",
    "dtype或dtypes\"Series的元素类型\n",
    "shape:Series的形状\n",
    "ndim:Series的维度\n",
    "size:Series的元素个数\n",
    "name:Series的名称\n",
    "loc[]  显式索引，按标签索引或切片\n",
    "iloc[]  隐式索引，按位置索引或切片\n",
    "at[]  使用标签访问单个元素\n",
    "iat[]  使用位置访问单个元素\n",
    "'''\n",
    "# print(s.index)\n",
    "# print(s.values)\n",
    "# print(s.shape,s.ndim,s.size)\n",
    "# s.name = 'test'\n",
    "# print(s.dtype,s.name)\n",
    "print(s.loc[['a','a']])  #显式索引\n",
    "print(s.iloc[0])  #隐式索引\n",
    "print(s.at['a'])\n",
    "print(s.iat[0])"
   ]
  },
  {
   "cell_type": "code",
   "execution_count": null,
   "id": "c7b39662878077c4",
   "metadata": {},
   "outputs": [],
   "source": [
    "# 访问数据\n",
    "# print(s[1])\n",
    "# print(s['c'])\n",
    "# print(s)\n",
    "# print(s[s<3])\n",
    "s['f'] = 6\n",
    "print(s.head(2))\n",
    "print(s.tail(1))"
   ]
  },
  {
   "cell_type": "code",
   "execution_count": null,
   "id": "81f4ff0637802e99",
   "metadata": {},
   "outputs": [],
   "source": [
    "# 常见函数\n",
    "s = pd.Series([10, 2, np.nan, None, 3, 4, 5], index=['A', 'B', 'C', 'D', 'E', 'F', 'G'], name='data')\n",
    "print(s)"
   ]
  },
  {
   "cell_type": "code",
   "execution_count": null,
   "id": "62aa0810c4a358e6",
   "metadata": {},
   "outputs": [],
   "source": [
    "s.head(3)  # 默认取前5行的数据\n",
    "s.tail(2)  #默认取后5行的数据"
   ]
  },
  {
   "cell_type": "code",
   "execution_count": null,
   "id": "d716a15eaf24a33b",
   "metadata": {},
   "outputs": [],
   "source": [
    "# 查看所有的描述性信息\n",
    "s.describe()"
   ]
  },
  {
   "cell_type": "code",
   "execution_count": null,
   "id": "4c86810f9940555f",
   "metadata": {},
   "outputs": [],
   "source": [
    "# 获取元素个数(忽略缺失值）\n",
    "print(s.count())"
   ]
  },
  {
   "cell_type": "code",
   "execution_count": null,
   "id": "731e8ed9d1505c3f",
   "metadata": {},
   "outputs": [],
   "source": [
    "# 获取索引\n",
    "print(s.keys())  # 方法\n",
    "print(s.index)  # 属性"
   ]
  },
  {
   "cell_type": "code",
   "execution_count": null,
   "id": "a3b98aa962570f9d",
   "metadata": {},
   "outputs": [],
   "source": [
    "print(s.isna())  #检查Series里的每一个元素是否为缺失值\n",
    "s.isna()"
   ]
  },
  {
   "cell_type": "code",
   "execution_count": null,
   "id": "6bc1b3ccfbf2785c",
   "metadata": {},
   "outputs": [],
   "source": [
    "s.isin([4, 5, 6])  # 检查每个元素是否在参数集合中"
   ]
  },
  {
   "cell_type": "code",
   "execution_count": null,
   "id": "a7c7eb85736467a5",
   "metadata": {},
   "outputs": [],
   "source": [
    "s.describe()"
   ]
  },
  {
   "cell_type": "code",
   "execution_count": null,
   "id": "a6704c7f90d8583a",
   "metadata": {},
   "outputs": [],
   "source": [
    "print(s.mean())  #平均值\n",
    "print(s.sum())  #总和\n",
    "print(s.std())  #标准差\n",
    "print(s.var())  #方差\n",
    "print(s.min())  #最小值\n",
    "print(s.max())  #最大值\n",
    "print(s.median())  #中位数"
   ]
  },
  {
   "cell_type": "code",
   "execution_count": null,
   "id": "aebcf7bc1512bb6",
   "metadata": {},
   "outputs": [],
   "source": [
    "print(s)"
   ]
  },
  {
   "cell_type": "code",
   "execution_count": null,
   "id": "6733c71b4b72594f",
   "metadata": {},
   "outputs": [],
   "source": [
    "# print(s.sort_values())\n",
    "print(s.quantile(0.8))  #分位数\n",
    "#————————————————\n",
    "#2  3   4  5   10\n",
    "#位置 4*0.8=3.2\n",
    "#值的计算  5 + （10-5）*0.2 = 6"
   ]
  },
  {
   "cell_type": "code",
   "execution_count": null,
   "id": "ee2dc2a67d792c65",
   "metadata": {},
   "outputs": [],
   "source": [
    "#众数\n",
    "s['H'] = 4\n",
    "print(s.mode())"
   ]
  },
  {
   "cell_type": "code",
   "execution_count": null,
   "id": "c6872e9718e78a58",
   "metadata": {},
   "outputs": [],
   "source": [
    "print(s.value_counts())  # 每个元素的计数"
   ]
  },
  {
   "cell_type": "code",
   "execution_count": null,
   "id": "81e30c05059a56b0",
   "metadata": {},
   "outputs": [],
   "source": [
    "s.drop_duplicates()  #去重\n",
    "s.unique()\n",
    "print(s.nunique())  #去重后的元素个数"
   ]
  },
  {
   "cell_type": "code",
   "execution_count": null,
   "id": "5079c0367697814f",
   "metadata": {},
   "outputs": [],
   "source": [
    "# 排序  值、索引\n",
    "s.sort_index()  # 按索引排序\n",
    "s.sort_values()  #按值排序"
   ]
  },
  {
   "cell_type": "code",
   "execution_count": null,
   "id": "821c1619b3f2e43d",
   "metadata": {},
   "outputs": [],
   "source": [
    "'''创建一个包含10名学生数学成绩的Series，成绩范围在50-100之间。\n",
    "计算平均分、最高分、最低分，并找出高于平均分的学生人数。'''\n",
    "\n",
    "import pandas as pd\n",
    "import numpy as np\n",
    "\n",
    "np.random.seed(42)\n",
    "values = np.random.randint(50, 101, 10)\n",
    "indexes = []\n",
    "for i in range(1, 11):\n",
    "    indexes.append('学生' + str(i))\n",
    "scores = pd.Series(values, indexes)\n",
    "# print(scores)\n",
    "print('平均分：', scores.mean())\n",
    "print('最高分：', scores.max())\n",
    "print('最低分：', scores.min())\n",
    "# 高于平均分的学生人数\n",
    "mean = scores.mean()\n",
    "print('高于平均分的学生人数:', len(scores[scores > mean]))\n",
    "print('高于平均分的学生人数:', scores[scores > mean].count())"
   ]
  },
  {
   "cell_type": "code",
   "execution_count": null,
   "id": "acc34c120e244526",
   "metadata": {},
   "outputs": [],
   "source": [
    "'''温度数据统计\n",
    "给定某城市一周每天的最高温度Series，完成以下任务：\n",
    "找出温度超过30度的天数\n",
    "计算平均温度\n",
    "将温度从高到低排序\n",
    "找出温度变化最大的两天\n",
    "'''\n",
    "import pandas as pd\n",
    "import numpy as np\n",
    "\n",
    "temperatures = pd.Series([28, 31, 29, 32, 30, 27, 33],\n",
    "                         index=['周一', '周二', '周三', '周四', '周五', '周六', '周日'])"
   ]
  },
  {
   "cell_type": "code",
   "execution_count": null,
   "id": "c729173b291f3b8b",
   "metadata": {},
   "outputs": [],
   "source": [
    "# 找出温度超过30度的天数\n",
    "n = temperatures[temperatures > 30].count()\n",
    "print('超过30度的天数：', n)"
   ]
  },
  {
   "cell_type": "code",
   "execution_count": null,
   "id": "d6d688d6c46debcb",
   "metadata": {},
   "outputs": [],
   "source": [
    "# 计算平均温度\n",
    "print('平均温度：', temperatures.mean())"
   ]
  },
  {
   "cell_type": "code",
   "execution_count": null,
   "id": "b10f2bcea7559450",
   "metadata": {},
   "outputs": [],
   "source": [
    "# 将温度从高到低排序\n",
    "t2 = temperatures.sort_values(ascending=False)\n",
    "print('从高到低排序：', t2)"
   ]
  },
  {
   "cell_type": "code",
   "execution_count": 35,
   "id": "4c39ee895446a466",
   "metadata": {
    "ExecuteTime": {
     "end_time": "2025-08-01T18:29:07.706542Z",
     "start_time": "2025-08-01T18:29:07.689212Z"
    }
   },
   "outputs": [
    {
     "ename": "NameError",
     "evalue": "name 'temperatures' is not defined",
     "output_type": "error",
     "traceback": [
      "\u001b[0;31m---------------------------------------------------------------------------\u001b[0m",
      "\u001b[0;31mNameError\u001b[0m                                 Traceback (most recent call last)",
      "Cell \u001b[0;32mIn[35], line 4\u001b[0m\n\u001b[1;32m      1\u001b[0m \u001b[38;5;66;03m# 找出温度变化最大的两天\u001b[39;00m\n\u001b[1;32m      2\u001b[0m \u001b[38;5;66;03m# 28 31 29 32 30 27 33\u001b[39;00m\n\u001b[1;32m      3\u001b[0m \u001b[38;5;66;03m# none 3 -2 3 -2 -3 6\u001b[39;00m\n\u001b[0;32m----> 4\u001b[0m t3 \u001b[38;5;241m=\u001b[39m \u001b[43mtemperatures\u001b[49m\u001b[38;5;241m.\u001b[39mdiff()\u001b[38;5;241m.\u001b[39mabs()  \u001b[38;5;66;03m#计算series的变化值\u001b[39;00m\n\u001b[1;32m      6\u001b[0m \u001b[38;5;28mprint\u001b[39m(\u001b[38;5;124m'\u001b[39m\u001b[38;5;124m温度变化最大的两天\u001b[39m\u001b[38;5;124m'\u001b[39m, \u001b[38;5;241m*\u001b[39m(t3\u001b[38;5;241m.\u001b[39msort_values(ascending\u001b[38;5;241m=\u001b[39m\u001b[38;5;28;01mFalse\u001b[39;00m)\u001b[38;5;241m.\u001b[39mkeys()[:\u001b[38;5;241m2\u001b[39m]\u001b[38;5;241m.\u001b[39mtolist()))\n",
      "\u001b[0;31mNameError\u001b[0m: name 'temperatures' is not defined"
     ]
    }
   ],
   "source": [
    "# 找出温度变化最大的两天\n",
    "# 28 31 29 32 30 27 33\n",
    "# none 3 -2 3 -2 -3 6\n",
    "t3 = temperatures.diff().abs()  #计算series的变化值\n",
    "\n",
    "print('温度变化最大的两天', *(t3.sort_values(ascending=False).keys()[:2].tolist()))"
   ]
  },
  {
   "cell_type": "code",
   "execution_count": null,
   "id": "e04a283be264fea8",
   "metadata": {},
   "outputs": [],
   "source": [
    "'''\n",
    "股票价格分析\n",
    "给定某股票连续10个交易日的收盘价Series：\n",
    "计算每日收益率（当日收盘价/前日收盘价 - 1）\n",
    "找出收益率最高和最低的日期\n",
    "计算波动率（收益率的标准差）\n",
    "\n",
    "\n",
    "prices = pd.Series([102.3, 103.5, 105.1, 104.8, 106.2, 107.0, 106.5, 108.1, 109.3, 110.2], index=pd.date_range('2023-01-01', periods=10))\n",
    "'''"
   ]
  },
  {
   "cell_type": "code",
   "execution_count": null,
   "id": "61888e31689123a4",
   "metadata": {},
   "outputs": [],
   "source": [
    "import pandas as pd\n",
    "import numpy as np\n",
    "\n",
    "# 日期序列\n",
    "date = pd.date_range('2000-06-1', periods=60)\n",
    "print(list(date))"
   ]
  },
  {
   "cell_type": "code",
   "execution_count": null,
   "id": "41bbfa0725545ff3",
   "metadata": {},
   "outputs": [],
   "source": [
    "prices = pd.Series([102.3, 103.5, 105.1, 104.8, 106.2, 107.0, 106.5, 108.1, 109.3, 110.2],\n",
    "                   index=pd.date_range('2023-01-01', periods=10))"
   ]
  },
  {
   "cell_type": "code",
   "execution_count": null,
   "id": "88f1c55daebe7949",
   "metadata": {},
   "outputs": [],
   "source": [
    "prices"
   ]
  },
  {
   "cell_type": "code",
   "execution_count": null,
   "id": "c008307da17b15e2",
   "metadata": {},
   "outputs": [],
   "source": [
    "'''计算每日收益率（当日收盘价/前日收盘价 - 1）\n",
    "找出收益率最高和最低的日期\n",
    "计算波动率（收益率的标准差）'''\n",
    "# 计算每日收益率\n",
    "a = prices.pct_change()  #percent  103.5/102.3 - 1"
   ]
  },
  {
   "cell_type": "code",
   "execution_count": null,
   "id": "eac2c5c2b026730d",
   "metadata": {},
   "outputs": [],
   "source": [
    "# 收益率最高的日期\n",
    "print(a.idxmax())\n",
    "# 收益率最低的日期\n",
    "print(a.idxmin())"
   ]
  },
  {
   "cell_type": "code",
   "execution_count": null,
   "id": "469ad2e6e97ad33",
   "metadata": {},
   "outputs": [],
   "source": [
    "# 波动率\n",
    "print(a.std())"
   ]
  },
  {
   "cell_type": "code",
   "execution_count": null,
   "id": "7f1feaf83ec3180f",
   "metadata": {},
   "outputs": [],
   "source": [
    "'''销售数据分析\n",
    "某产品过去12个月的销售量Series：\n",
    "计算季度平均销量（每3个月为一个季度）\n",
    "找出销量最高的月份\n",
    "计算月环比增长率\n",
    "找出连续增长超过2个月的月份\n",
    "\n",
    "sales = pd.Series([120, 135, 145, 160, 155, 170, 180, 175, 190, 200, 210, 220],index=pd.date_range('2022-01-01', periods=12, freq='MS'))'''"
   ]
  },
  {
   "cell_type": "code",
   "execution_count": 13,
   "id": "a75916878370374b",
   "metadata": {},
   "outputs": [
    {
     "data": {
      "text/plain": [
       "DatetimeIndex(['2024-01-01', '2024-02-01', '2024-03-01', '2024-04-01',\n",
       "               '2024-05-01', '2024-06-01', '2024-07-01', '2024-08-01',\n",
       "               '2024-09-01', '2024-10-01', '2024-11-01', '2024-12-01'],\n",
       "              dtype='datetime64[ns]', freq='MS')"
      ]
     },
     "execution_count": 13,
     "metadata": {},
     "output_type": "execute_result"
    }
   ],
   "source": [
    "a = pd.date_range('2024-01-01', periods=12, freq='MS')\n",
    "a"
   ]
  },
  {
   "cell_type": "code",
   "execution_count": null,
   "id": "f07ee342246791db",
   "metadata": {},
   "outputs": [],
   "source": [
    "sales = pd.Series([120, 135, 145, 160, 155, 170, 180, 175, 190, 200, 210, 220],index=pd.date_range('2024-01-01', periods=12, freq='MS'))"
   ]
  },
  {
   "cell_type": "code",
   "execution_count": null,
   "id": "4c924e73f338505c",
   "metadata": {},
   "outputs": [],
   "source": [
    "sales"
   ]
  },
  {
   "cell_type": "code",
   "execution_count": null,
   "id": "d4934c48903f1a85",
   "metadata": {},
   "outputs": [],
   "source": [
    "# 季度的平均销量\n",
    "# (120+135+145)/3 = 400/3\n",
    "sales.resample('QS').mean()  #重新采样"
   ]
  },
  {
   "cell_type": "code",
   "execution_count": null,
   "id": "15a3cbe7a7835a86",
   "metadata": {},
   "outputs": [],
   "source": [
    "print('销量最高的月份', sales.idxmax())"
   ]
  },
  {
   "cell_type": "code",
   "execution_count": null,
   "id": "de09b3f163973d1b",
   "metadata": {},
   "outputs": [],
   "source": [
    "print('月环比的增长率')\n",
    "sales.pct_change()"
   ]
  },
  {
   "cell_type": "code",
   "execution_count": null,
   "id": "5843d4dacde5e9ac",
   "metadata": {},
   "outputs": [],
   "source": [
    "# 找出连续增长超过2个月的月份\n",
    "sales"
   ]
  },
  {
   "cell_type": "code",
   "execution_count": null,
   "id": "5934b2b25c95a673",
   "metadata": {},
   "outputs": [],
   "source": [
    "a = sales.pct_change()\n",
    "b = a > 0\n",
    "b[b.rolling(3).sum() == 3].keys().tolist()"
   ]
  },
  {
   "cell_type": "code",
   "execution_count": null,
   "id": "dffa5987cdfb2111",
   "metadata": {},
   "outputs": [],
   "source": [
    "'''每小时销售数据分析\n",
    "某商店每小时销售额Series：\n",
    "按天重采样计算每日总销售额\n",
    "计算每天营业时间（8:00-22:00）和非营业时间的销售额比例\n",
    "找出销售额最高的3个小时'''"
   ]
  },
  {
   "cell_type": "code",
   "execution_count": null,
   "id": "1d51458c58a30e16",
   "metadata": {},
   "outputs": [],
   "source": [
    "import pandas as pd\n",
    "import numpy as np\n",
    "\n",
    "np.random.seed(42)\n",
    "h = pd.Series(np.random.randint(0, 100, 24),\n",
    "              index=pd.date_range('2025-01-01', periods=24, freq='h'))\n",
    "# 按天重采样计算每日总销售额\n",
    "day_sales = h.resample('D').sum()\n",
    "# hours_sales.sum()\n",
    "# 计算每天营业时间（8:00-22:00）和非营业时间的销售额比例\n",
    "mask = (h.index.hour >= 8) & ((h.index.hour <= 22))\n",
    "b = h[mask]\n",
    "n_b = h[~mask]\n",
    "print(b.sum() / n_b.sum())\n",
    "# 找出销售额最高的3个小时\n",
    "print(h.nlargest(3).keys())"
   ]
  }
 ],
 "metadata": {
  "kernelspec": {
   "display_name": "Python 3",
   "language": "python",
   "name": "python3"
  },
  "language_info": {
   "codemirror_mode": {
    "name": "ipython",
    "version": 3
   },
   "file_extension": ".py",
   "mimetype": "text/x-python",
   "name": "python",
   "nbconvert_exporter": "python",
   "pygments_lexer": "ipython3",
   "version": "3.9.6"
  }
 },
 "nbformat": 4,
 "nbformat_minor": 5
}
